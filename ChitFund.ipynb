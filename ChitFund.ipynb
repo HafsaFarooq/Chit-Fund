{
 "cells": [
  {
   "cell_type": "markdown",
   "metadata": {},
   "source": [
    "# A chit fund has 25 members. Each month they contribute Rs 2000 each. End of the month, the person who bids the lowest for the corpus, gets his bid. The group organizer gets paid a fixed commission of Rs 2500 each month (5% of 25*2000).It is deducted from the bid winner's corpus.  The remaining amount is distributed among all the 25 customers equally.Enclosed excel has the table with cashflows for each month.\n",
    "# Task : \n",
    "# •  What is the Annualized  Return of the person who bids in the last month ? \n",
    "# •  What is the Annualized Return of the person who bids in the first month ?\n",
    "# •  Write an R/Python script which calculates the annualized return of chit fund participant ?-Show the Return % for each month's bid winner.\n",
    "# Document your assumptions.Note: Please google about how chitfund works, incase if you are not familiar with the mechanism!  "
   ]
  },
  {
   "cell_type": "code",
   "execution_count": 1,
   "metadata": {},
   "outputs": [],
   "source": [
    "import pandas as pd\n",
    "import numpy as np"
   ]
  },
  {
   "cell_type": "code",
   "execution_count": 2,
   "metadata": {},
   "outputs": [
    {
     "data": {
      "text/html": [
       "<div>\n",
       "<style scoped>\n",
       "    .dataframe tbody tr th:only-of-type {\n",
       "        vertical-align: middle;\n",
       "    }\n",
       "\n",
       "    .dataframe tbody tr th {\n",
       "        vertical-align: top;\n",
       "    }\n",
       "\n",
       "    .dataframe thead th {\n",
       "        text-align: right;\n",
       "    }\n",
       "</style>\n",
       "<table border=\"1\" class=\"dataframe\">\n",
       "  <thead>\n",
       "    <tr style=\"text-align: right;\">\n",
       "      <th></th>\n",
       "      <th>Month</th>\n",
       "      <th>Contribution</th>\n",
       "      <th>Amount won by the bidder</th>\n",
       "      <th>Chit fund organizer commission</th>\n",
       "      <th>Net amount recd by Bid winner</th>\n",
       "      <th>Amount returned to everyone in the group</th>\n",
       "    </tr>\n",
       "  </thead>\n",
       "  <tbody>\n",
       "    <tr>\n",
       "      <th>0</th>\n",
       "      <td>1</td>\n",
       "      <td>2000</td>\n",
       "      <td>40000</td>\n",
       "      <td>2500</td>\n",
       "      <td>37500</td>\n",
       "      <td>400</td>\n",
       "    </tr>\n",
       "    <tr>\n",
       "      <th>1</th>\n",
       "      <td>2</td>\n",
       "      <td>2000</td>\n",
       "      <td>42000</td>\n",
       "      <td>2500</td>\n",
       "      <td>39500</td>\n",
       "      <td>320</td>\n",
       "    </tr>\n",
       "    <tr>\n",
       "      <th>2</th>\n",
       "      <td>3</td>\n",
       "      <td>2000</td>\n",
       "      <td>45000</td>\n",
       "      <td>2500</td>\n",
       "      <td>42500</td>\n",
       "      <td>200</td>\n",
       "    </tr>\n",
       "    <tr>\n",
       "      <th>3</th>\n",
       "      <td>4</td>\n",
       "      <td>2000</td>\n",
       "      <td>48000</td>\n",
       "      <td>2500</td>\n",
       "      <td>45500</td>\n",
       "      <td>80</td>\n",
       "    </tr>\n",
       "    <tr>\n",
       "      <th>4</th>\n",
       "      <td>5</td>\n",
       "      <td>2000</td>\n",
       "      <td>40000</td>\n",
       "      <td>2500</td>\n",
       "      <td>37500</td>\n",
       "      <td>400</td>\n",
       "    </tr>\n",
       "    <tr>\n",
       "      <th>5</th>\n",
       "      <td>6</td>\n",
       "      <td>2000</td>\n",
       "      <td>42000</td>\n",
       "      <td>2500</td>\n",
       "      <td>39500</td>\n",
       "      <td>320</td>\n",
       "    </tr>\n",
       "    <tr>\n",
       "      <th>6</th>\n",
       "      <td>7</td>\n",
       "      <td>2000</td>\n",
       "      <td>43000</td>\n",
       "      <td>2500</td>\n",
       "      <td>40500</td>\n",
       "      <td>280</td>\n",
       "    </tr>\n",
       "    <tr>\n",
       "      <th>7</th>\n",
       "      <td>8</td>\n",
       "      <td>2000</td>\n",
       "      <td>44000</td>\n",
       "      <td>2500</td>\n",
       "      <td>41500</td>\n",
       "      <td>240</td>\n",
       "    </tr>\n",
       "    <tr>\n",
       "      <th>8</th>\n",
       "      <td>9</td>\n",
       "      <td>2000</td>\n",
       "      <td>40000</td>\n",
       "      <td>2500</td>\n",
       "      <td>37500</td>\n",
       "      <td>400</td>\n",
       "    </tr>\n",
       "    <tr>\n",
       "      <th>9</th>\n",
       "      <td>10</td>\n",
       "      <td>2000</td>\n",
       "      <td>42000</td>\n",
       "      <td>2500</td>\n",
       "      <td>39500</td>\n",
       "      <td>320</td>\n",
       "    </tr>\n",
       "    <tr>\n",
       "      <th>10</th>\n",
       "      <td>11</td>\n",
       "      <td>2000</td>\n",
       "      <td>45000</td>\n",
       "      <td>2500</td>\n",
       "      <td>42500</td>\n",
       "      <td>200</td>\n",
       "    </tr>\n",
       "    <tr>\n",
       "      <th>11</th>\n",
       "      <td>12</td>\n",
       "      <td>2000</td>\n",
       "      <td>48000</td>\n",
       "      <td>2500</td>\n",
       "      <td>45500</td>\n",
       "      <td>80</td>\n",
       "    </tr>\n",
       "    <tr>\n",
       "      <th>12</th>\n",
       "      <td>13</td>\n",
       "      <td>2000</td>\n",
       "      <td>40000</td>\n",
       "      <td>2500</td>\n",
       "      <td>37500</td>\n",
       "      <td>400</td>\n",
       "    </tr>\n",
       "    <tr>\n",
       "      <th>13</th>\n",
       "      <td>14</td>\n",
       "      <td>2000</td>\n",
       "      <td>42000</td>\n",
       "      <td>2500</td>\n",
       "      <td>39500</td>\n",
       "      <td>320</td>\n",
       "    </tr>\n",
       "    <tr>\n",
       "      <th>14</th>\n",
       "      <td>15</td>\n",
       "      <td>2000</td>\n",
       "      <td>43000</td>\n",
       "      <td>2500</td>\n",
       "      <td>40500</td>\n",
       "      <td>280</td>\n",
       "    </tr>\n",
       "    <tr>\n",
       "      <th>15</th>\n",
       "      <td>16</td>\n",
       "      <td>2000</td>\n",
       "      <td>43000</td>\n",
       "      <td>2500</td>\n",
       "      <td>40500</td>\n",
       "      <td>280</td>\n",
       "    </tr>\n",
       "    <tr>\n",
       "      <th>16</th>\n",
       "      <td>17</td>\n",
       "      <td>2000</td>\n",
       "      <td>41000</td>\n",
       "      <td>2500</td>\n",
       "      <td>38500</td>\n",
       "      <td>360</td>\n",
       "    </tr>\n",
       "    <tr>\n",
       "      <th>17</th>\n",
       "      <td>18</td>\n",
       "      <td>2000</td>\n",
       "      <td>42000</td>\n",
       "      <td>2500</td>\n",
       "      <td>39500</td>\n",
       "      <td>320</td>\n",
       "    </tr>\n",
       "    <tr>\n",
       "      <th>18</th>\n",
       "      <td>19</td>\n",
       "      <td>2000</td>\n",
       "      <td>45000</td>\n",
       "      <td>2500</td>\n",
       "      <td>42500</td>\n",
       "      <td>200</td>\n",
       "    </tr>\n",
       "    <tr>\n",
       "      <th>19</th>\n",
       "      <td>20</td>\n",
       "      <td>2000</td>\n",
       "      <td>45000</td>\n",
       "      <td>2500</td>\n",
       "      <td>42500</td>\n",
       "      <td>200</td>\n",
       "    </tr>\n",
       "    <tr>\n",
       "      <th>20</th>\n",
       "      <td>21</td>\n",
       "      <td>2000</td>\n",
       "      <td>44000</td>\n",
       "      <td>2500</td>\n",
       "      <td>41500</td>\n",
       "      <td>240</td>\n",
       "    </tr>\n",
       "    <tr>\n",
       "      <th>21</th>\n",
       "      <td>22</td>\n",
       "      <td>2000</td>\n",
       "      <td>46000</td>\n",
       "      <td>2500</td>\n",
       "      <td>43500</td>\n",
       "      <td>160</td>\n",
       "    </tr>\n",
       "    <tr>\n",
       "      <th>22</th>\n",
       "      <td>23</td>\n",
       "      <td>2000</td>\n",
       "      <td>47000</td>\n",
       "      <td>2500</td>\n",
       "      <td>44500</td>\n",
       "      <td>120</td>\n",
       "    </tr>\n",
       "    <tr>\n",
       "      <th>23</th>\n",
       "      <td>24</td>\n",
       "      <td>2000</td>\n",
       "      <td>48000</td>\n",
       "      <td>2500</td>\n",
       "      <td>45500</td>\n",
       "      <td>80</td>\n",
       "    </tr>\n",
       "    <tr>\n",
       "      <th>24</th>\n",
       "      <td>25</td>\n",
       "      <td>2000</td>\n",
       "      <td>50000</td>\n",
       "      <td>2500</td>\n",
       "      <td>47500</td>\n",
       "      <td>0</td>\n",
       "    </tr>\n",
       "  </tbody>\n",
       "</table>\n",
       "</div>"
      ],
      "text/plain": [
       "    Month  Contribution  Amount won by the bidder  \\\n",
       "0       1          2000                     40000   \n",
       "1       2          2000                     42000   \n",
       "2       3          2000                     45000   \n",
       "3       4          2000                     48000   \n",
       "4       5          2000                     40000   \n",
       "5       6          2000                     42000   \n",
       "6       7          2000                     43000   \n",
       "7       8          2000                     44000   \n",
       "8       9          2000                     40000   \n",
       "9      10          2000                     42000   \n",
       "10     11          2000                     45000   \n",
       "11     12          2000                     48000   \n",
       "12     13          2000                     40000   \n",
       "13     14          2000                     42000   \n",
       "14     15          2000                     43000   \n",
       "15     16          2000                     43000   \n",
       "16     17          2000                     41000   \n",
       "17     18          2000                     42000   \n",
       "18     19          2000                     45000   \n",
       "19     20          2000                     45000   \n",
       "20     21          2000                     44000   \n",
       "21     22          2000                     46000   \n",
       "22     23          2000                     47000   \n",
       "23     24          2000                     48000   \n",
       "24     25          2000                     50000   \n",
       "\n",
       "    Chit fund organizer commission  Net amount recd by Bid winner  \\\n",
       "0                             2500                          37500   \n",
       "1                             2500                          39500   \n",
       "2                             2500                          42500   \n",
       "3                             2500                          45500   \n",
       "4                             2500                          37500   \n",
       "5                             2500                          39500   \n",
       "6                             2500                          40500   \n",
       "7                             2500                          41500   \n",
       "8                             2500                          37500   \n",
       "9                             2500                          39500   \n",
       "10                            2500                          42500   \n",
       "11                            2500                          45500   \n",
       "12                            2500                          37500   \n",
       "13                            2500                          39500   \n",
       "14                            2500                          40500   \n",
       "15                            2500                          40500   \n",
       "16                            2500                          38500   \n",
       "17                            2500                          39500   \n",
       "18                            2500                          42500   \n",
       "19                            2500                          42500   \n",
       "20                            2500                          41500   \n",
       "21                            2500                          43500   \n",
       "22                            2500                          44500   \n",
       "23                            2500                          45500   \n",
       "24                            2500                          47500   \n",
       "\n",
       "    Amount returned to everyone in the group  \n",
       "0                                        400  \n",
       "1                                        320  \n",
       "2                                        200  \n",
       "3                                         80  \n",
       "4                                        400  \n",
       "5                                        320  \n",
       "6                                        280  \n",
       "7                                        240  \n",
       "8                                        400  \n",
       "9                                        320  \n",
       "10                                       200  \n",
       "11                                        80  \n",
       "12                                       400  \n",
       "13                                       320  \n",
       "14                                       280  \n",
       "15                                       280  \n",
       "16                                       360  \n",
       "17                                       320  \n",
       "18                                       200  \n",
       "19                                       200  \n",
       "20                                       240  \n",
       "21                                       160  \n",
       "22                                       120  \n",
       "23                                        80  \n",
       "24                                         0  "
      ]
     },
     "execution_count": 2,
     "metadata": {},
     "output_type": "execute_result"
    }
   ],
   "source": [
    "df = pd.read_excel(r\"C:\\Users\\Exercise Data.xlsx\")\n",
    "df"
   ]
  },
  {
   "cell_type": "markdown",
   "metadata": {},
   "source": [
    "# What is the Annualized  Return of the person who bids in the last month ?"
   ]
  },
  {
   "cell_type": "code",
   "execution_count": 17,
   "metadata": {},
   "outputs": [
    {
     "data": {
      "text/plain": [
       "6200"
      ]
     },
     "execution_count": 17,
     "metadata": {},
     "output_type": "execute_result"
    }
   ],
   "source": [
    "AREIG = np.array(df[\"Amount returned to everyone in the group\"])\n",
    "dist_fund = 0\n",
    "for i in AREIG:\n",
    "    dist_fund = dist_fund + i\n",
    "dist_fund\n"
   ]
  },
  {
   "cell_type": "code",
   "execution_count": 19,
   "metadata": {},
   "outputs": [
    {
     "data": {
      "text/plain": [
       "53700"
      ]
     },
     "execution_count": 19,
     "metadata": {},
     "output_type": "execute_result"
    }
   ],
   "source": [
    "answer1 = dist_fund + np.array(df[\"Net amount recd by Bid winner\"])[-1]\n",
    "answer1"
   ]
  },
  {
   "cell_type": "code",
   "execution_count": 20,
   "metadata": {
    "scrolled": true
   },
   "outputs": [
    {
     "data": {
      "text/plain": [
       "3700"
      ]
     },
     "execution_count": 20,
     "metadata": {},
     "output_type": "execute_result"
    }
   ],
   "source": [
    "net_amount_to_last_bidder = answer1 - (25*2000)\n",
    "net_amount_to_last_bidder"
   ]
  },
  {
   "cell_type": "markdown",
   "metadata": {},
   "source": [
    "# What is the Annualized Return of the person who bids in the last month ?"
   ]
  },
  {
   "cell_type": "code",
   "execution_count": 21,
   "metadata": {},
   "outputs": [
    {
     "data": {
      "text/plain": [
       "43700"
      ]
     },
     "execution_count": 21,
     "metadata": {},
     "output_type": "execute_result"
    }
   ],
   "source": [
    "answer2 = dist_fund + np.array(df[\"Net amount recd by Bid winner\"])[0]\n",
    "answer2"
   ]
  },
  {
   "cell_type": "code",
   "execution_count": 23,
   "metadata": {},
   "outputs": [
    {
     "data": {
      "text/plain": [
       "-6300"
      ]
     },
     "execution_count": 23,
     "metadata": {},
     "output_type": "execute_result"
    }
   ],
   "source": [
    "net_amount_to_first_bidder = answer2 - (25*2000)\n",
    "net_amount_to_first_bidder"
   ]
  },
  {
   "cell_type": "markdown",
   "metadata": {},
   "source": [
    "# Annualized return of chit fund participant - The Return % for each month's bid winner"
   ]
  },
  {
   "cell_type": "code",
   "execution_count": 36,
   "metadata": {},
   "outputs": [],
   "source": [
    "return_= []\n",
    "\n",
    "for i in range(25):\n",
    "    new  = (dist_fund + np.array(df[\"Net amount recd by Bid winner\"])[i] *100)/50000\n",
    "    return_.append(new)\n",
    "df[\"return\"] = return_"
   ]
  },
  {
   "cell_type": "code",
   "execution_count": 37,
   "metadata": {},
   "outputs": [
    {
     "data": {
      "text/plain": [
       "0     75.124\n",
       "1     79.124\n",
       "2     85.124\n",
       "3     91.124\n",
       "4     75.124\n",
       "5     79.124\n",
       "6     81.124\n",
       "7     83.124\n",
       "8     75.124\n",
       "9     79.124\n",
       "10    85.124\n",
       "11    91.124\n",
       "12    75.124\n",
       "13    79.124\n",
       "14    81.124\n",
       "15    81.124\n",
       "16    77.124\n",
       "17    79.124\n",
       "18    85.124\n",
       "19    85.124\n",
       "20    83.124\n",
       "21    87.124\n",
       "22    89.124\n",
       "23    91.124\n",
       "24    95.124\n",
       "Name: return, dtype: float64"
      ]
     },
     "execution_count": 37,
     "metadata": {},
     "output_type": "execute_result"
    }
   ],
   "source": [
    "df['return']"
   ]
  }
 ],
 "metadata": {
  "kernelspec": {
   "display_name": "Python 3",
   "language": "python",
   "name": "python3"
  },
  "language_info": {
   "codemirror_mode": {
    "name": "ipython",
    "version": 3
   },
   "file_extension": ".py",
   "mimetype": "text/x-python",
   "name": "python",
   "nbconvert_exporter": "python",
   "pygments_lexer": "ipython3",
   "version": "3.7.0"
  }
 },
 "nbformat": 4,
 "nbformat_minor": 2
}
